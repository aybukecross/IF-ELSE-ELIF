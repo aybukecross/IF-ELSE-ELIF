{
 "cells": [
  {
   "cell_type": "code",
   "execution_count": 8,
   "metadata": {},
   "outputs": [
    {
     "name": "stdout",
     "output_type": "stream",
     "text": [
      "AA\n"
     ]
    }
   ],
   "source": [
    "\n",
    "x = int(input(\"enter your score here\"))\n",
    "if 90<=x :\n",
    "    print(\"AA\")\n",
    "\n",
    "elif 80<=x :\n",
    "    print(\"BA\")\n",
    "\n",
    "elif 70<=x :\n",
    "    print(\"B\")\n",
    "\n",
    "elif 60<=x :\n",
    "    print(\"C\")\n",
    "\n",
    "elif 50<=x :\n",
    "    print(\"D\")\n",
    "\n",
    "else :\n",
    "    print(\"F\")"
   ]
  },
  {
   "cell_type": "code",
   "execution_count": 21,
   "metadata": {},
   "outputs": [
    {
     "name": "stdout",
     "output_type": "stream",
     "text": [
      "True\n"
     ]
    }
   ],
   "source": [
    "x = str(input(\"enter your name here\"))\n",
    "if x.islower or x.isupper :\n",
    "    print(\"True\") \n",
    "else :\n",
    "    print(\"False\")"
   ]
  },
  {
   "cell_type": "code",
   "execution_count": 33,
   "metadata": {},
   "outputs": [
    {
     "name": "stdout",
     "output_type": "stream",
     "text": [
      "Techpro\n"
     ]
    }
   ],
   "source": [
    "x = int(input(\"enter a number here\"))\n",
    "if x % 3 ==0 and x % 5 == 0:\n",
    "    print(\"Techpro\")\n",
    "elif x % 5 == 0 :\n",
    "    print (\"pro\")\n",
    "elif x % 3 == 0 :\n",
    "    print(\"Tech\")\n",
    "else :\n",
    "    print (x)"
   ]
  }
 ],
 "metadata": {
  "kernelspec": {
   "display_name": "Python 3",
   "language": "python",
   "name": "python3"
  },
  "language_info": {
   "codemirror_mode": {
    "name": "ipython",
    "version": 3
   },
   "file_extension": ".py",
   "mimetype": "text/x-python",
   "name": "python",
   "nbconvert_exporter": "python",
   "pygments_lexer": "ipython3",
   "version": "3.11.3"
  },
  "orig_nbformat": 4
 },
 "nbformat": 4,
 "nbformat_minor": 2
}
